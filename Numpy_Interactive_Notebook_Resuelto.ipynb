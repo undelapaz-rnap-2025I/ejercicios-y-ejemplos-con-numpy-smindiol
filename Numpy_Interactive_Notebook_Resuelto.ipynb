{
 "cells": [
  {
   "cell_type": "markdown",
   "id": "8d2dc45b",
   "metadata": {},
   "source": [
    "# Cuaderno Interactivo: Ejemplos y Ejercicios con NumPy\n",
    "Este cuaderno interactivo tiene como propósito mostrar ejemplos prácticos y ejercicios utilizando la librería NumPy en Python. Abordaremos operaciones comunes como indexación, slicing, operaciones con matrices, cálculo de determinantes, valores propios, resolución de sistemas de ecuaciones y optimización mediante descenso por gradiente.\n"
   ]
  },
  {
   "cell_type": "markdown",
   "id": "c9ec2705",
   "metadata": {},
   "source": [
    "## Implementación de Ejemplos con NumPy"
   ]
  },
  {
   "cell_type": "markdown",
   "id": "d1e8af31",
   "metadata": {},
   "source": [
    "### 1. Indexación Básica"
   ]
  },
  {
   "cell_type": "code",
   "execution_count": 57,
   "id": "62f3a462",
   "metadata": {},
   "outputs": [],
   "source": [
    "import numpy as np\n",
    "import matplotlib.pyplot as plt"
   ]
  },
  {
   "cell_type": "code",
   "execution_count": 42,
   "id": "2c04fa7f",
   "metadata": {},
   "outputs": [
    {
     "name": "stdout",
     "output_type": "stream",
     "text": [
      "30\n"
     ]
    }
   ],
   "source": [
    "arr = np.array([10, 20, 30, 40, 50])\n",
    "print(arr[2])  # Output: 30"
   ]
  },
  {
   "cell_type": "markdown",
   "id": "dc06585b",
   "metadata": {},
   "source": [
    "### 2. Slicing"
   ]
  },
  {
   "cell_type": "code",
   "execution_count": 43,
   "id": "fa74984f",
   "metadata": {},
   "outputs": [
    {
     "name": "stdout",
     "output_type": "stream",
     "text": [
      "[20 30 40]\n"
     ]
    }
   ],
   "source": [
    "arr = np.array([10, 20, 30, 40, 50])\n",
    "print(arr[1:4])  # Output: [20 30 40]"
   ]
  },
  {
   "cell_type": "markdown",
   "id": "1ba32101",
   "metadata": {},
   "source": [
    "### 3. Indexación en Arreglos 2D"
   ]
  },
  {
   "cell_type": "code",
   "execution_count": 44,
   "id": "dca959d6",
   "metadata": {},
   "outputs": [
    {
     "name": "stdout",
     "output_type": "stream",
     "text": [
      "6\n"
     ]
    }
   ],
   "source": [
    "arr = np.array([[1, 2, 3], [4, 5, 6], [7, 8, 9]])\n",
    "print(arr[1, 2])  # Output: 6"
   ]
  },
  {
   "cell_type": "markdown",
   "id": "d1aba96d",
   "metadata": {},
   "source": [
    "### 4. Slicing en 2D"
   ]
  },
  {
   "cell_type": "code",
   "execution_count": 45,
   "id": "6976a1db",
   "metadata": {},
   "outputs": [
    {
     "name": "stdout",
     "output_type": "stream",
     "text": [
      "[[2 3]\n",
      " [5 6]]\n"
     ]
    }
   ],
   "source": [
    "arr = np.array([[1, 2, 3], [4, 5, 6], [7, 8, 9]])\n",
    "print(arr[:2, 1:])  # Output: [[2 3] [5 6]]"
   ]
  },
  {
   "cell_type": "markdown",
   "id": "5393b9e4",
   "metadata": {},
   "source": [
    "### 5. Indexación en Tensores 3D"
   ]
  },
  {
   "cell_type": "code",
   "execution_count": 46,
   "id": "63173ccb",
   "metadata": {},
   "outputs": [
    {
     "name": "stdout",
     "output_type": "stream",
     "text": [
      "9\n",
      "[[ 7  8  9]\n",
      " [10 11 12]]\n"
     ]
    }
   ],
   "source": [
    "tensor = np.array([[[1, 2, 3], [4, 5, 6]],\n",
    "                  [[7, 8, 9], [10, 11, 12]],\n",
    "                  [[13, 14, 15], [16, 17, 18]]])\n",
    "print(tensor[1, 0, 2])  # Output: 9\n",
    "print(tensor[1])  # Output: [[ 7 8 9] [10 11 12]]"
   ]
  },
  {
   "cell_type": "markdown",
   "id": "c1835202",
   "metadata": {},
   "source": [
    "### 6. Slicing a 3D Tensor"
   ]
  },
  {
   "cell_type": "code",
   "execution_count": 47,
   "id": "ab0d3613",
   "metadata": {},
   "outputs": [
    {
     "name": "stdout",
     "output_type": "stream",
     "text": [
      "[[ 9 10 11]\n",
      " [12 13 14]\n",
      " [15 16 17]]\n",
      "[[ 3  4  5]\n",
      " [12 13 14]\n",
      " [21 22 23]]\n",
      "[[ 2  5  8]\n",
      " [11 14 17]\n",
      " [20 23 26]]\n"
     ]
    }
   ],
   "source": [
    "tensor = np.arange(27).reshape(3, 3, 3)\n",
    "print(tensor[1])  # Submatriz 3x3\n",
    "print(tensor[:, 1, :])  # Submatriz 3x3\n",
    "print(tensor[:, :, 2])  # Submatriz 3x3"
   ]
  },
  {
   "cell_type": "markdown",
   "id": "fec12eda",
   "metadata": {},
   "source": [
    "### 7. Indexación en Tensor 4D"
   ]
  },
  {
   "cell_type": "code",
   "execution_count": 48,
   "id": "51700700",
   "metadata": {},
   "outputs": [
    {
     "name": "stdout",
     "output_type": "stream",
     "text": [
      "Espacio \n",
      "\n",
      "43\n",
      "[[40 41 42 43]\n",
      " [44 45 46 47]]\n"
     ]
    }
   ],
   "source": [
    "tensor = np.arange(48).reshape(2, 3, 2, 4)# Numero de grupos grandes, numero de sub matrices, numeor de filas por submatriz, numero de columnas por submatriz\n",
    "#print(tensor)\n",
    "print(\"Espacio \\n\")\n",
    "print(tensor[1, 2, 0, 3])  # Output: 43\n",
    "print(tensor[1, 2])  # Subtensor 2x4"
   ]
  },
  {
   "cell_type": "markdown",
   "id": "3bddcd24",
   "metadata": {},
   "source": [
    "### 8. Slicing en un Tensor 4D"
   ]
  },
  {
   "cell_type": "code",
   "execution_count": 73,
   "id": "c25ecc4b",
   "metadata": {},
   "outputs": [
    {
     "name": "stdout",
     "output_type": "stream",
     "text": [
      "[[[24 25 26 27]\n",
      "  [28 29 30 31]]\n",
      "\n",
      " [[32 33 34 35]\n",
      "  [36 37 38 39]]\n",
      "\n",
      " [[40 41 42 43]\n",
      "  [44 45 46 47]]]\n",
      "[[[16 17 18 19]\n",
      "  [20 21 22 23]]\n",
      "\n",
      " [[40 41 42 43]\n",
      "  [44 45 46 47]]]\n",
      "[[[ 0  1  2  3]\n",
      "  [ 8  9 10 11]\n",
      "  [16 17 18 19]]\n",
      "\n",
      " [[24 25 26 27]\n",
      "  [32 33 34 35]\n",
      "  [40 41 42 43]]]\n"
     ]
    }
   ],
   "source": [
    "tensor = np.arange(48).reshape(2, 3, 2, 4)\n",
    "#print(tensor)\n",
    "print(tensor[1])  # Subtensor 3x2x4\n",
    "print(tensor[:, 2, :, :])  # Subtensor 2x2x4\n",
    "print(tensor[:, :, 0, :])  # Subtensor 2x3x4"
   ]
  },
  {
   "cell_type": "markdown",
   "id": "3795e66a",
   "metadata": {},
   "source": [
    "### 9. Suma de Matrices"
   ]
  },
  {
   "cell_type": "code",
   "execution_count": 50,
   "id": "cccc8ea6",
   "metadata": {},
   "outputs": [
    {
     "name": "stdout",
     "output_type": "stream",
     "text": [
      "[[ 6  8]\n",
      " [10 12]]\n"
     ]
    }
   ],
   "source": [
    "A = np.array([[1, 2], [3, 4]])\n",
    "B = np.array([[5, 6], [7, 8]])\n",
    "result = A + B\n",
    "print(result)"
   ]
  },
  {
   "cell_type": "markdown",
   "id": "2bc14972",
   "metadata": {},
   "source": [
    "### 10. Multiplicación de Matrices"
   ]
  },
  {
   "cell_type": "code",
   "execution_count": 51,
   "id": "a20f87fa",
   "metadata": {},
   "outputs": [
    {
     "name": "stdout",
     "output_type": "stream",
     "text": [
      "[[19 22]\n",
      " [43 50]]\n"
     ]
    }
   ],
   "source": [
    "A = np.array([[1, 2], [3, 4]])\n",
    "B = np.array([[5, 6], [7, 8]])\n",
    "result = np.dot(A, B)\n",
    "print(result)"
   ]
  },
  {
   "cell_type": "markdown",
   "id": "827aef5c",
   "metadata": {},
   "source": [
    "### 11. Transposición de Matriz"
   ]
  },
  {
   "cell_type": "code",
   "execution_count": 52,
   "id": "8d687cc3",
   "metadata": {},
   "outputs": [
    {
     "name": "stdout",
     "output_type": "stream",
     "text": [
      "[[1 3]\n",
      " [2 4]]\n"
     ]
    }
   ],
   "source": [
    "A = np.array([[1, 2], [3, 4]])\n",
    "result = np.transpose(A)\n",
    "print(result)"
   ]
  },
  {
   "cell_type": "markdown",
   "id": "4377338a",
   "metadata": {},
   "source": [
    "### 12. Determinante e Inversa de una Matriz"
   ]
  },
  {
   "cell_type": "code",
   "execution_count": 53,
   "id": "aab55533",
   "metadata": {},
   "outputs": [
    {
     "name": "stdout",
     "output_type": "stream",
     "text": [
      "Determinante: -2.0000000000000004\n",
      "Inversa:\n",
      " [[-2.   1. ]\n",
      " [ 1.5 -0.5]]\n"
     ]
    }
   ],
   "source": [
    "A = np.array([[1, 2], [3, 4]])\n",
    "det = np.linalg.det(A)\n",
    "inverse = np.linalg.inv(A)\n",
    "print(\"Determinante:\", det)\n",
    "print(\"Inversa:\\n\", inverse)"
   ]
  },
  {
   "cell_type": "markdown",
   "id": "b8a93cf3",
   "metadata": {},
   "source": [
    "### 13. Valores y Vectores Propios"
   ]
  },
  {
   "cell_type": "code",
   "execution_count": 54,
   "id": "793cd61e",
   "metadata": {},
   "outputs": [
    {
     "name": "stdout",
     "output_type": "stream",
     "text": [
      "Valores propios: [2.00000002 1.99999998]\n",
      "Vectores propios:\n",
      " [[-0.70710677 -0.70710679]\n",
      " [ 0.70710679  0.70710677]]\n"
     ]
    }
   ],
   "source": [
    "A = np.array([[1, -1], [1, 3]])\n",
    "eigenvalues, eigenvectors = np.linalg.eig(A)\n",
    "print(\"Valores propios:\", eigenvalues)\n",
    "print(\"Vectores propios:\\n\", eigenvectors)"
   ]
  },
  {
   "cell_type": "markdown",
   "id": "e42fe763",
   "metadata": {},
   "source": [
    "### 14. Resolución de Ecuaciones Lineales"
   ]
  },
  {
   "cell_type": "code",
   "execution_count": 55,
   "id": "4d985785",
   "metadata": {},
   "outputs": [
    {
     "name": "stdout",
     "output_type": "stream",
     "text": [
      "Solución: [1. 1.]\n"
     ]
    }
   ],
   "source": [
    "A = np.array([[2, 1], [1, 1]])\n",
    "b = np.array([3, 2])\n",
    "solution = np.linalg.solve(A, b)\n",
    "print(\"Solución:\", solution)"
   ]
  },
  {
   "cell_type": "markdown",
   "id": "eeb14dd2",
   "metadata": {},
   "source": [
    "### 15. Descenso por Gradiente para Regresión Lineal"
   ]
  },
  {
   "cell_type": "code",
   "execution_count": 64,
   "id": "9aa229db",
   "metadata": {},
   "outputs": [
    {
     "name": "stdout",
     "output_type": "stream",
     "text": [
      "Theta final: [[4.22215108]\n",
      " [2.96846751]]\n"
     ]
    }
   ],
   "source": [
    "# Generar datos de ejemplo\n",
    "np.random.seed(0)\n",
    "X = 2 * np.random.rand(100, 1)\n",
    "y = 4 + 3 * X + np.random.randn(100, 1)\n",
    "# Agregar término de sesgo\n",
    "X_b = np.c_[np.ones((100, 1)), X]\n",
    "# Hiperparámetros\n",
    "learning_rate = 0.1\n",
    "n_iterations = 1000\n",
    "theta = np.random.randn(2, 1)\n",
    "# Descenso por gradiente\n",
    "for iteration in range(n_iterations):\n",
    "    gradients = 2 / 100 * X_b.T.dot(X_b.dot(theta) - y)\n",
    "    theta = theta - learning_rate * gradients\n",
    "print(\"Theta final:\", theta)"
   ]
  },
  {
   "cell_type": "markdown",
   "id": "a1ee36cf",
   "metadata": {},
   "source": [
    "## Resolución de Ejercicios\n",
    "A continuación, se presentan los ejercicios propuestos junto con sus respectivas soluciones y explicaciones."
   ]
  },
  {
   "cell_type": "markdown",
   "id": "47e9927a",
   "metadata": {},
   "source": [
    "### 3.1 Indexación de Arreglos en NumPy"
   ]
  },
  {
   "cell_type": "code",
   "execution_count": 63,
   "id": "6c5feab6",
   "metadata": {},
   "outputs": [
    {
     "name": "stdout",
     "output_type": "stream",
     "text": [
      "a) Tercer elemento: 1\n",
      "b) Slice índice 1 al 3: [7 1 9]\n",
      "c) Arreglo modificado: [ 3  7  1 12  5]\n"
     ]
    }
   ],
   "source": [
    "import numpy as np\n",
    "# 1. Operaciones sobre arreglo 1D\n",
    "arr = np.array([3, 7, 1, 9, 5])\n",
    "# a) Tercer elemento\n",
    "print(\"a) Tercer elemento:\", arr[2])\n",
    "# b) Elementos del índice 1 al 3\n",
    "print(\"b) Slice índice 1 al 3:\", arr[1:4])\n",
    "# c) Cambiar el valor del cuarto elemento a 12\n",
    "arr[3] = 12\n",
    "print(\"c) Arreglo modificado:\", arr)"
   ]
  },
  {
   "cell_type": "code",
   "execution_count": null,
   "id": "0d442cfb",
   "metadata": {},
   "outputs": [
    {
     "name": "stdout",
     "output_type": "stream",
     "text": [
      "[[1 2 3]\n",
      " [4 5 6]\n",
      " [7 8 9]]\n",
      "a) Elemento [1, 2]: 6\n",
      "b) Submatriz 2x3:\n",
      "[[1 2 3]\n",
      " [4 5 6]]\n"
     ]
    }
   ],
   "source": [
    "# 2. Operaciones sobre arreglo 2D\n",
    "matrix = np.arange(1,10).reshape(3, 3)\n",
    "# a) Elemento segunda fila, tercera columna\n",
    "print(\"a) Elemento [1, 2]:\", matrix[1, 2])\n",
    "# b) Submatriz de las dos primeras filas y todas las columnas\n",
    "print(\"b) Submatriz 2x3:\")\n",
    "print(matrix[:2, :])"
   ]
  },
  {
   "cell_type": "markdown",
   "id": "08dac93b",
   "metadata": {},
   "source": [
    "### 3.2 Indexación y Slicing de Tensores de Dimensión Superior"
   ]
  },
  {
   "cell_type": "code",
   "execution_count": null,
   "id": "3e35ae00",
   "metadata": {},
   "outputs": [
    {
     "name": "stdout",
     "output_type": "stream",
     "text": [
      "1) Elemento (1, 0, 2): 15\n",
      "2) Segunda matriz (tensor[1]):\n",
      " [[13 14 15 16]\n",
      " [17 18 19 20]\n",
      " [21 22 23 24]]\n",
      "3) Última fila de las dos últimas matrices:\n",
      "[[21 22 23 24]\n",
      " [33 34 35 36]]\n",
      "4) Elemento (2, 1, 3): 32\n",
      "5) Primera fila de las dos últimas matrices:\n",
      "[[13 14 15 16]\n",
      " [25 26 27 28]]\n"
     ]
    }
   ],
   "source": [
    "tensor = np.arange(1,37).reshape(3, 3,4)\n",
    "# 1. Elemento (1, 0, 2)\n",
    "print(\"1) Elemento (1, 0, 2):\", tensor[1, 0, 2])\n",
    "# 2. Subtensor 3x4 de la segunda 'matriz'\n",
    "print(\"2) Segunda matriz (tensor[1]):\\n\", tensor[1])\n",
    "# 3. Última fila de las dos últimas matrices (2x4)\n",
    "print(\"3) Última fila de las dos últimas matrices:\")\n",
    "print(tensor[1:, 2, :])\n",
    "# 4. Elemento (2, 1, 3)\n",
    "print(\"4) Elemento (2, 1, 3):\", tensor[2, 1, 3])\n",
    "# 5. Primera fila de las dos últimas matrices\n",
    "print(\"5) Primera fila de las dos últimas matrices:\")\n",
    "print(tensor[1:, 0, :])"
   ]
  },
  {
   "cell_type": "markdown",
   "id": "2a7257ca",
   "metadata": {},
   "source": [
    "### 3.3 Definición de Funciones en Python"
   ]
  },
  {
   "cell_type": "code",
   "execution_count": 70,
   "id": "aba6739f",
   "metadata": {},
   "outputs": [
    {
     "name": "stdout",
     "output_type": "stream",
     "text": [
      "Promedio: 6.0\n",
      "3^2: 9\n",
      "2^4: 16\n"
     ]
    }
   ],
   "source": [
    "# 1. Calcular el promedio\n",
    "def calculate_average(numbers):\n",
    "    return sum(numbers) / len(numbers)\n",
    "print(\"Promedio:\", calculate_average([4, 8, 6]))\n",
    "\n",
    "# 2. Potencia con parámetro por defecto\n",
    "def find_power(base, exponent=2):\n",
    "    return base ** exponent\n",
    "print(\"3^2:\", find_power(3))\n",
    "print(\"2^4:\", find_power(2, 4))"
   ]
  },
  {
   "cell_type": "markdown",
   "id": "354f22ba",
   "metadata": {},
   "source": [
    "### 3.4 Implementación de Descenso por Gradiente"
   ]
  },
  {
   "cell_type": "code",
   "execution_count": 71,
   "id": "66b050cb",
   "metadata": {},
   "outputs": [
    {
     "name": "stdout",
     "output_type": "stream",
     "text": [
      "Theta final: [[0.69889085]\n",
      " [2.50030722]]\n"
     ]
    }
   ],
   "source": [
    "import matplotlib.pyplot as plt\n",
    "\n",
    "# Datos dados\n",
    "X = np.arange(1, 6).reshape(-1, 1)\n",
    "y = np.array([[3], [6], [8], [11], [13]])\n",
    "m = len(X)\n",
    "X_b = np.c_[np.ones((m, 1)), X]\n",
    "theta = np.random.randn(2, 1)\n",
    "learning_rate = 0.01\n",
    "n_iterations = 1000\n",
    "theta_path = []\n",
    "\n",
    "for iteration in range(n_iterations):\n",
    "    gradients = 2/m * X_b.T.dot(X_b.dot(theta) - y)\n",
    "    theta = theta - learning_rate * gradients\n",
    "    if iteration % 10 == 0:\n",
    "        theta_path.append(theta.copy())\n",
    "\n",
    "print(\"Theta final:\", theta)"
   ]
  },
  {
   "cell_type": "markdown",
   "id": "830eee20",
   "metadata": {},
   "source": [
    "#### Visualización del Progreso de los Parámetros"
   ]
  },
  {
   "cell_type": "code",
   "execution_count": 72,
   "id": "200addd7",
   "metadata": {},
   "outputs": [
    {
     "data": {
      "image/png": "[encoded data removed]",
      "text/plain": [
       "<Figure size 640x480 with 1 Axes>"
      ]
     },
     "metadata": {},
     "output_type": "display_data"
    }
   ],
   "source": [
    "theta_path = np.array(theta_path)\n",
    "plt.plot(theta_path[:, 0], label='theta0')\n",
    "plt.plot(theta_path[:, 1], label='theta1')\n",
    "plt.xlabel('Iteraciones (cada 10)')\n",
    "plt.ylabel('Valor del parámetro')\n",
    "plt.title('Evolución de los parámetros en el descenso por gradiente')\n",
    "plt.legend()\n",
    "plt.grid(True)\n",
    "plt.show()"
   ]
  },
  {
   "cell_type": "markdown",
   "id": "18a3707c",
   "metadata": {},
   "source": [
    "El `learning_rate` controla el tamaño de los pasos que da el algoritmo al ajustar los parámetros durante el entrenamiento. Un valor pequeño puede hacer que el descenso por gradiente sea muy lento e incluso que el modelo se estanque cerca de mínimos locales sin alcanzar una solución óptima. Por otro lado, un valor demasiado grande puede provocar que el algoritmo oscile alrededor del mínimo o nunca llegue a converger. En lugar de utilizar un valor fijo, existen alternativas más sofisticadas como los métodos con tasas de aprendizaje adaptativas, por ejemplo AdaGrad, RMSprop o Adam, así como técnicas de decaimiento del learning rate, donde se reduce progresivamente a medida que avanzan las iteraciones para estabilizar el aprendizaje.\n",
    "\n"
   ]
  }
 ],
 "metadata": {
  "kernelspec": {
   "display_name": "vision",
   "language": "python",
   "name": "python3"
  },
  "language_info": {
   "codemirror_mode": {
    "name": "ipython",
    "version": 3
   },
   "file_extension": ".py",
   "mimetype": "text/x-python",
   "name": "python",
   "nbconvert_exporter": "python",
   "pygments_lexer": "ipython3",
   "version": "3.13.2"
  }
 },
 "nbformat": 4,
 "nbformat_minor": 5
}
